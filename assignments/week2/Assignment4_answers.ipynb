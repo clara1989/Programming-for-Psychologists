{
 "cells": [
  {
   "cell_type": "markdown",
   "metadata": {},
   "source": [
    "## ASSIGNMENT 4\n",
    "\n",
    "In this assignment we will start combining different aspects (i.e., variables, loops, indexing) of the first three assignments. "
   ]
  },
  {
   "cell_type": "markdown",
   "metadata": {},
   "source": [
    "### Flipping strings\n",
    "Remember, you can get individual letters from a string using square brackets, similar to lists and tuples:\n",
    "\n",
    "```python\n",
    "my_string = 'banana'\n",
    "len(my_string) # will give 6\n",
    "l = 2\n",
    "my_string[l] # will give 'n' \n",
    "```"
   ]
  },
  {
   "cell_type": "markdown",
   "metadata": {},
   "source": [
    "#### Question 1\n",
    "Use range() to define a sequence that counts down from the length of the string to 0. In the case of our example, where my_string=='banana' , the sequence should be:<br/>\n",
    "\n",
    "[5, 4, 3, 2, 1, 0]\n",
    "\n",
    "* At the top of the cell assign 'banana' to the variable my_string\n",
    "* In python 3 you need list to print the output of range (e.g., list(range(10))\n",
    "* don't simply assume that myString has length 6, but use a function to get the length of the string"
   ]
  },
  {
   "cell_type": "code",
   "execution_count": 7,
   "metadata": {},
   "outputs": [
    {
     "name": "stdout",
     "output_type": "stream",
     "text": [
      "[5, 4, 3, 2, 1, 0]\n"
     ]
    },
    {
     "data": {
      "text/plain": [
       "[5, 4, 3, 2, 1, 0]"
      ]
     },
     "execution_count": 7,
     "metadata": {},
     "output_type": "execute_result"
    }
   ],
   "source": [
    "#answer question 1\n",
    "my_string = 'banana'\n",
    "print(list(range(len(my_string)-1,-1,-1)))\n",
    "\n",
    "# or\n",
    "list(range(len(my_string)))[::-1]"
   ]
  },
  {
   "cell_type": "markdown",
   "metadata": {},
   "source": [
    "#### Question 2\n",
    "Use your answer to question 1 in a for-loop to print the letters from my_string in reversed order\n",
    "* In the for loop you don't need the list wrapper anymore"
   ]
  },
  {
   "cell_type": "code",
   "execution_count": 8,
   "metadata": {},
   "outputs": [
    {
     "name": "stdout",
     "output_type": "stream",
     "text": [
      "a\n",
      "n\n",
      "a\n",
      "n\n",
      "a\n",
      "b\n"
     ]
    }
   ],
   "source": [
    "#answer question 2\n",
    "for i in range(len(my_string)-1,-1,-1):\n",
    "    print(my_string[i])"
   ]
  },
  {
   "cell_type": "markdown",
   "metadata": {},
   "source": [
    "#### Question 3\n",
    "We can use the code above to flip strings, e.g. to turn 'banana' into 'ananab'. To do this, you need to take the following steps:\n",
    "\n",
    "1. define a new string called rev_string, which starts empty ('') \n",
    "2. Use range() again to loop over the characters in myString in reverse. \n",
    "3. Do not print every individual letter, but append every letter to rev_string (remember you can use + for that, just as with lists). \n",
    "4. print rev_string to see if your script worked!<br/><br/>\n",
    "perform these steps in python, and flip \"I am a reversed string\""
   ]
  },
  {
   "cell_type": "code",
   "execution_count": 10,
   "metadata": {},
   "outputs": [
    {
     "name": "stdout",
     "output_type": "stream",
     "text": [
      "gnirts desrever a ma I\n"
     ]
    }
   ],
   "source": [
    "#answer question 3\n",
    "my_string = 'I am a reversed string'\n",
    "rev_string = ''\n",
    "for i in range(len(my_string)-1,-1,-1):\n",
    "    rev_string += my_string[i]\n",
    "print(rev_string)"
   ]
  },
  {
   "cell_type": "markdown",
   "metadata": {},
   "source": [
    "#### Question 4\n",
    "If we want to reverse a lot of strings, it is a good idea to write a function that does this. Therefore, write a function called stringReverse(). It takes exactly one argument, which is the string you want to flip. For the rest, it does exactly the same as your code in response to question 3. Test your function using a new string: \n",
    "```python\n",
    "string_B = 'murder for a jar of red rum'\n",
    "stringReverse(string_B) # ' mur der fo raj a rof redrum '\n",
    "```"
   ]
  },
  {
   "cell_type": "code",
   "execution_count": 12,
   "metadata": {},
   "outputs": [
    {
     "name": "stdout",
     "output_type": "stream",
     "text": [
      "mur der fo raj a rof redrum\n"
     ]
    }
   ],
   "source": [
    "#answer question 4\n",
    "def stringReverse(to_reverse):\n",
    "    rev_string = ''\n",
    "    for i in range(len(to_reverse)-1,-1,-1):\n",
    "        rev_string += to_reverse[i]\n",
    "    print(rev_string)\n",
    "    \n",
    "string_B = 'murder for a jar of red rum'\n",
    "stringReverse(string_B)   "
   ]
  },
  {
   "cell_type": "markdown",
   "metadata": {},
   "source": [
    "#### Question 5\n",
    "Currently, our function flips its input string, then prints it and forgets it. That is a pity if we want to use this flipped string later on. Luckily, as we have seen before, functions can also return values. Write a new function based on stringReverse() called stringReverse2(). This function is identical, except that it does not print the flipped string but returns it.<br/><br/>\n",
    "To test whether your function works, store the result of your function in a variable, and feed it back into your function to retrieve the original via the foloowing code:\n",
    "```python\n",
    "original_string = 'This is the original string' \n",
    "flipped_string = stringReverse2(original_string) \n",
    "flipped_back = stringReverse2(flipped_string) \n",
    "\n",
    "if flipped_back == original_string: \n",
    "    print(\"Yes.\", flipped_back)\n",
    "else: \n",
    "    print(\"No.\", flipped_back, \" is not the same!\")\n",
    "```        "
   ]
  },
  {
   "cell_type": "code",
   "execution_count": 14,
   "metadata": {},
   "outputs": [
    {
     "name": "stdout",
     "output_type": "stream",
     "text": [
      "Yes. This is the original string\n"
     ]
    }
   ],
   "source": [
    "#answer question 5\n",
    "def stringReverse2(to_reverse):\n",
    "    rev_string = ''\n",
    "    for i in range(len(to_reverse)-1,-1,-1):\n",
    "        rev_string += to_reverse[i]\n",
    "    return rev_string\n",
    "\n",
    "original_string = 'This is the original string' \n",
    "flipped_string = stringReverse2(original_string) \n",
    "flipped_back = stringReverse2(flipped_string) \n",
    "\n",
    "if flipped_back == original_string: \n",
    "    print(\"Yes.\", flipped_back)\n",
    "else: \n",
    "    print(\"No.\", flipped_back, \" is not the same!\")"
   ]
  },
  {
   "cell_type": "markdown",
   "metadata": {},
   "source": [
    "### Number guessing game\n",
    "During the second lecture, a number guessing game was given as an example of how to use a while loop. In its current form, the game stops once the number is guessed right. In this exer-cise you are going to change this. Your program will ask the player if he or she wants to play again, and restart the game if he or she answers ‘y’, but exit the program if the answer is ‘n’."
   ]
  },
  {
   "cell_type": "markdown",
   "metadata": {},
   "source": [
    "#### Question 6\n",
    "The cell below contains code that allows you to play a number guessing game. Unfortunatly, the code as specified below still contains a couple of errors. Please adjust the code such that you can play the number guessing game."
   ]
  },
  {
   "cell_type": "code",
   "execution_count": null,
   "metadata": {},
   "outputs": [],
   "source": [
    "# answer question 6\n",
    "to_guess = 6\n",
    "\n",
    "while True:\n",
    "    \n",
    "    # ask player to guess (use int() to change input string to a number)\n",
    "    guess = int(input('Guess the number: \\n')) \n",
    "    \n",
    "    if guess < to_guess:\n",
    "        print ('Your guess is too low, please guess again.')\n",
    "    elif guess > to_guess::  \n",
    "        print ('Your guess is too high, please guess again.')\n",
    "    else:\n",
    "        print 'Yes {} was the correct answer. Thank you for playing'.format(guess)\n",
    "        break "
   ]
  },
  {
   "cell_type": "markdown",
   "metadata": {},
   "source": [
    "#### Question 7\n",
    "In the cell below paste your answer to question 6 inside a while loop, that will repeat if the user an-swers ‘y’ and stop if he answers ‘n’. You can use the function input() to listen for key-board input from the player, as is done when the player is asked to enter a number. The player should only be asked the question to play again after he or she has finished a round (so the game shouldn’t start with the question)."
   ]
  },
  {
   "cell_type": "code",
   "execution_count": 19,
   "metadata": {},
   "outputs": [
    {
     "name": "stdout",
     "output_type": "stream",
     "text": [
      "Guess the number: \n",
      "6\n",
      "Yes 6 was the correct answer. Thank you for playing\n",
      "Do you want to play again?y\n",
      "Guess the number: \n",
      "6\n",
      "Yes 6 was the correct answer. Thank you for playing\n",
      "Do you want to play again?n\n"
     ]
    }
   ],
   "source": [
    "#answer question 7\n",
    "to_guess = 6\n",
    "cont_play = 'y'\n",
    "while cont_play== 'y':\n",
    "\n",
    "    # ask player to guess (use int() to change input string to a number)\n",
    "    guess = int(input('Guess the number: \\n')) \n",
    "\n",
    "    if guess < to_guess:\n",
    "        print('Your guess is too low, please guess again.')\n",
    "    elif guess > to_guess:  \n",
    "        print('Your guess is too high, please guess again.')\n",
    "    else:\n",
    "        print('Yes {} was the correct answer. Thank you for playing'.format(guess))\n",
    "        cont_play = input('Do you want to play again?') "
   ]
  },
  {
   "cell_type": "markdown",
   "metadata": {},
   "source": [
    "#### Question 8\n",
    "It is likely that you have implemented question 7 in such a way, that the user can also give other responses than “y” or “n”, and that the game will either quit or start over after such an invalid response. Make sure the player can only answer with ‘y’ or ‘n’ to the question of playing again, and print “Please answer with ‘y or ‘n’” if any other input than y or n is given.\n",
    "\n",
    "Also, make sure you can use lowercase and uppercase ‘y’ and ‘n’"
   ]
  },
  {
   "cell_type": "code",
   "execution_count": 3,
   "metadata": {},
   "outputs": [
    {
     "name": "stdout",
     "output_type": "stream",
     "text": [
      "Guess the number: \n",
      "6\n",
      "Yes 6 was the correct answer. Thank you for playing\n",
      "Do you want to play again?N\n",
      "n\n"
     ]
    }
   ],
   "source": [
    "#answer question 8\n",
    "to_guess = 6\n",
    "cont_play = 'y'\n",
    "while cont_play== 'y':\n",
    "\n",
    "    # ask player to guess (use int() to change input string to a number)\n",
    "    guess = int(input('Guess the number: \\n')) \n",
    "\n",
    "    if guess < to_guess:\n",
    "        print('Your guess is too low, please guess again.')\n",
    "    elif guess > to_guess:  \n",
    "        print('Your guess is too high, please guess again.')\n",
    "    else:\n",
    "        print('Yes {} was the correct answer. Thank you for playing'.format(guess))\n",
    "        cont_play = input('Do you want to play again?').lower() \n",
    "        while cont_play not in ['y','n']:\n",
    "            cont_play = input('Do you want to play again? Please answer with y or n?')\n",
    "        "
   ]
  },
  {
   "cell_type": "markdown",
   "metadata": {},
   "source": [
    "#### Question 9\n",
    "\n",
    "The number to be guessed is fixed at 6 in the example. It would make the game more inter-esting if a random number is picked when a new round starts. Find a function in the random module with which you can generate a random number between 1 and 20 and let the player guess that number."
   ]
  },
  {
   "cell_type": "code",
   "execution_count": 9,
   "metadata": {
    "scrolled": true
   },
   "outputs": [
    {
     "name": "stdout",
     "output_type": "stream",
     "text": [
      "Guess the number: \n",
      "6\n",
      "Your guess is too low, please guess again.\n",
      "Guess the number: \n",
      "10\n",
      "Your guess is too low, please guess again.\n",
      "Guess the number: \n",
      "15\n",
      "Your guess is too low, please guess again.\n",
      "Guess the number: \n",
      "17\n",
      "Your guess is too low, please guess again.\n",
      "Guess the number: \n",
      "18\n",
      "Your guess is too low, please guess again.\n",
      "Guess the number: \n",
      "19\n",
      "Your guess is too low, please guess again.\n",
      "Guess the number: \n",
      "20\n",
      "Finally, come on it is not that hard, please try harder\n",
      "Do you want to play again?y\n",
      "Guess the number: \n",
      "1\n",
      "Your guess is too low, please guess again.\n",
      "Guess the number: \n",
      "5\n",
      "Your guess is too low, please guess again.\n",
      "Guess the number: \n",
      "10\n",
      "Your guess is too low, please guess again.\n",
      "Guess the number: \n",
      "15\n",
      "Your guess is too low, please guess again.\n",
      "Guess the number: \n",
      "19\n",
      "Your guess is too high, please guess again.\n",
      "Guess the number: \n",
      "18\n",
      "Yes 18 was the correct answer. Thank you for playing\n",
      "Do you want to play again?n\n"
     ]
    }
   ],
   "source": [
    "#answer question 8\n",
    "import random\n",
    "to_guess = random.randint(1,20)\n",
    "guess_cnt = 0\n",
    "cont_play = 'y'\n",
    "while cont_play== 'y':\n",
    "\n",
    "    # ask player to guess (use int() to change input string to a number)\n",
    "    guess = input('Guess the number: \\n')\n",
    "    while not guess.isdigit():\n",
    "        print('your input is not a number')\n",
    "        guess = input('Guess the number: \\n')\n",
    "    guess = int(guess)\n",
    "    guess_cnt += 1\n",
    "    if guess < to_guess:\n",
    "        print('Your guess is too low, please guess again.')\n",
    "    elif guess > to_guess:  \n",
    "        print('Your guess is too high, please guess again.')\n",
    "    else:\n",
    "        # give feedback based on performance\n",
    "        if guess_cnt == 1:\n",
    "            print('Lucky bastard, maybe you should go to the casino?')\n",
    "        elif guess_cnt > 6:\n",
    "            print('Finally, come on it is not that hard, please try harder')\n",
    "        else:    \n",
    "            print('Yes {} was the correct answer. Thank you for playing'.format(guess))\n",
    "        # reset counter and number to guess\n",
    "        guess_cnt = 0\n",
    "        to_guess = random.randint(1,20)\n",
    "        # check whether a new game should be started\n",
    "        cont_play = input('Do you want to play again?').lower() \n",
    "        while cont_play not in ['y','n']:\n",
    "            cont_play = input('Do you want to play again? Please answer with y or n?')"
   ]
  },
  {
   "cell_type": "markdown",
   "metadata": {},
   "source": [
    "### Bonus questions\n",
    "\n",
    "As a extra addition to the game, in the cell above change the code such that if the 'player’ input is not an integer then you provide the message “your input is not a number” and the 'player' should be asked to guess the number again.\n",
    "\n",
    "Finally, keep track of the number of guesses needed to arrive at the correct answer and provide feedback based on the performance. \n",
    "\n",
    "If only guess was needed print \"Lucky bastard, maybe you should go to the casino?\"\n",
    "If more than 6 guesses were needed print \"Finally, come on it is not that hard, please try harder\"  \n",
    "Otherwise as before simply print 'Yes {} was the correct answer. Thank you for playing'.format(guess))"
   ]
  }
 ],
 "metadata": {
  "kernelspec": {
   "display_name": "Python 3",
   "language": "python",
   "name": "python3"
  },
  "language_info": {
   "codemirror_mode": {
    "name": "ipython",
    "version": 3
   },
   "file_extension": ".py",
   "mimetype": "text/x-python",
   "name": "python",
   "nbconvert_exporter": "python",
   "pygments_lexer": "ipython3",
   "version": "3.7.1"
  }
 },
 "nbformat": 4,
 "nbformat_minor": 2
}
