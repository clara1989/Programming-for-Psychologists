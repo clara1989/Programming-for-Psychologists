{
 "cells": [
  {
   "cell_type": "markdown",
   "metadata": {},
   "source": [
    "## ASSIGNMENT 3\n",
    "\n",
    "In this assignment you will learn to use iteration structures (for loop, while loop) and play around with different data structures (lists and dictionaries)"
   ]
  },
  {
   "cell_type": "markdown",
   "metadata": {},
   "source": [
    "### Multiplication tables\n",
    "This will be your first introduction in using the for-loop iteration structure. Most of you will remember multiplication tables from primary school, where you had to rehearse them endlessly. For instance, the multiplication table of 4 looks like:\n",
    "\n",
    "1 x 4 = 4 <br/>2 x 4 = 8 <br/> 3 x 4 = 12  <br/>4 x 4 = 16  <br/>and so on. <br/><br/>In the upcoming exercises you are going to print such multiplication tables using for-loops."
   ]
  },
  {
   "cell_type": "markdown",
   "metadata": {},
   "source": [
    "#### Question 1\n",
    "Print the multiplication table of 2 (stop at 10 x 2). You can use range() in combination with a for-loop to easily do this.\n",
    "* With range() you generate the list of multiplicators (e.g. the numbers you are going to multiply 2 with) and then you traverse this list with a for loop and multiply each number that it gives you with 2.\n",
    "* Think about which values you want to use as the arguments for range, if you want to start with 1 x 2 and stop at 10 x 2.\n",
    "\n",
    "You should print the full multiplication and the result. "
   ]
  },
  {
   "cell_type": "code",
   "execution_count": null,
   "metadata": {},
   "outputs": [],
   "source": [
    "#answer question 1"
   ]
  },
  {
   "cell_type": "markdown",
   "metadata": {},
   "source": [
    "#### Question 2\n",
    "Nest the for-loop you wrote for question 1 in a second for-loop to print all the tables. The outer for-loop will generate all the primary table numbers and the inner for-loop will generate all the multiplicators. In pseudocode the structure looks like this:\n",
    "```python\n",
    "for each number from 1 to 10:\n",
    "    for each multiplicator from 1 to 10:\n",
    "        print <multiplication and result>\n",
    "```"
   ]
  },
  {
   "cell_type": "code",
   "execution_count": null,
   "metadata": {},
   "outputs": [],
   "source": [
    "#answer question 2"
   ]
  },
  {
   "cell_type": "markdown",
   "metadata": {},
   "source": [
    "#### Question 3\n",
    "Print out the message “The table of <table no>” before a new table is printed. The output should thus look like this:<br/><br/> The table of 1: <br/>1 x 1 = 1<br/> 2 x 1 = 2 <br/>3 x 1 = 3<br/> … <br/>10 x 1 = 10 <br/>The table of 2: <br/>1 x 2 = 2<br/> 2 x 2 = 4 <br/>3 x 2 =6 … <br/>10 x 2 = 20<br/> The table of 3: <br/>1 x 3 = 3 <br/>2 x 3 = 6 <br/>and so on."
   ]
  },
  {
   "cell_type": "code",
   "execution_count": null,
   "metadata": {},
   "outputs": [],
   "source": [
    "#answer question 3"
   ]
  },
  {
   "cell_type": "markdown",
   "metadata": {},
   "source": [
    "### Range()\n",
    "Range() is a useful function that's already built-in in python. range() comes in a couple of forms. Try the different forms of range() in the cell below, and compare the outcomes."
   ]
  },
  {
   "cell_type": "code",
   "execution_count": null,
   "metadata": {},
   "outputs": [],
   "source": [
    "print(list(range(10)))\n",
    "print(list(range(5,10)))\n",
    "print(list(range(10,5))) # !\n",
    "print(list(range(0,30,3)))"
   ]
  },
  {
   "cell_type": "markdown",
   "metadata": {},
   "source": [
    "#### To think about\n",
    "You know that range() is a function, and that functions can have (default) arguments. Describe what the three arguments that can be passed to range() do, and what their default values are -- i.e. what python does if you leave them out."
   ]
  },
  {
   "cell_type": "markdown",
   "metadata": {},
   "source": [
    "### Data structures\n",
    "In the lecture, I gave the following example in which I stored various dictionaries in one list: \n",
    "\n",
    "```python\n",
    "student1 = {\"name\":\"Olivia\",\"age\":18}\n",
    "student2 = {\"name\":\"Regina\",\"age\":20}\n",
    "students = [student1, student2] # create list containing these dicts\n",
    "students[0][\"name\"] # list item 1, retrieve and print name Olivia\n",
    "Olivia\n",
    "```\n",
    "\n",
    "Graphically, the structure I created there would look like this:<br/><img style=\"float: left;\" src=\"listofdicts.png\" width=\"200\"><br/><br/><br/><br/><br/><br/><br/><br/><br/><br/><br/><br/><br/>Alternatively, it would also be possible to just create one dictionary, and populate it with a list of values for each person, which would look like this:<br/>\n",
    "<img style=\"float: left;\" src=\"dictoflists.png\" width=\"200\"><br/><br/><br/><br/><br/><br/><br/><br/><br/><br/><br/><br/><br/>So in other words, now you have 1 dictionary with the fields name and age, and both these fields contain a list with corresponding values."
   ]
  },
  {
   "cell_type": "markdown",
   "metadata": {},
   "source": [
    "#### Question 4\n",
    "Write the code that would create the above structure in Python. Afterwards, you should for instance be able to retrieve the name of the first student with:\n",
    "```python\n",
    "students[\"name\"][0]\n",
    "```"
   ]
  },
  {
   "cell_type": "code",
   "execution_count": null,
   "metadata": {},
   "outputs": [],
   "source": [
    "#answer question 4"
   ]
  },
  {
   "cell_type": "markdown",
   "metadata": {},
   "source": [
    "#### Question 5\n",
    "How can you retrieve the age of the second person from this structure referenced by students which you just created? Specify the code to do this\n",
    "\n",
    "\n"
   ]
  },
  {
   "cell_type": "code",
   "execution_count": null,
   "metadata": {},
   "outputs": [],
   "source": [
    "#answer question 5"
   ]
  },
  {
   "cell_type": "markdown",
   "metadata": {},
   "source": [
    "#### Question 6\n",
    "Write the code to add the following three persons to your structure referenced by students:\n",
    "\n",
    "\n",
    "|Name|Age|\n",
    "|:- |:-:| \n",
    "|Karl|22 | \n",
    "|Priscilla|19|  \n",
    "|Boris |20|  \n",
    "\n",
    "Check whether the structure now contains 5 persons\n"
   ]
  },
  {
   "cell_type": "code",
   "execution_count": null,
   "metadata": {},
   "outputs": [],
   "source": [
    "#answer question 6"
   ]
  },
  {
   "cell_type": "markdown",
   "metadata": {},
   "source": [
    "#### Question 7\n",
    "Use indices to retrieve the age of each person and use this data to calculate the average age of all 5 persons and then print this average age. You should get 19.8 as the answer"
   ]
  },
  {
   "cell_type": "code",
   "execution_count": null,
   "metadata": {},
   "outputs": [],
   "source": [
    "#answer 7"
   ]
  },
  {
   "cell_type": "markdown",
   "metadata": {},
   "source": [
    "#### Question 8\n",
    "Python offers useful built-in functions that does a lot of the hard work for you. Two of these are:<br/>\n",
    "\n",
    "sum(<list>) – calculate the sum of all numbers in a list <br/>len(<list>) – give the number of elements in the list\n",
    "\n",
    "```python\n",
    "l = [2,4,6] total = sum(l) # ‘total’ will get the value 12 \n",
    "items = len(l) # ‘items’ will get the value 3 \n",
    "avg = total/items # avg will result to 4\n",
    "```\n",
    "Use these two functions to calculate the average age, instead of retrieving every age by using indexing like you did in question 7. If you can, do this without assigning the result of sum and len to a variable (e.g. use sum and len directly in the equation you use to calculate the average). Also print the average age you just calculated."
   ]
  },
  {
   "cell_type": "code",
   "execution_count": null,
   "metadata": {},
   "outputs": [],
   "source": [
    "#answer question 8"
   ]
  }
 ],
 "metadata": {
  "kernelspec": {
   "display_name": "Python 3",
   "language": "python",
   "name": "python3"
  },
  "language_info": {
   "codemirror_mode": {
    "name": "ipython",
    "version": 3
   },
   "file_extension": ".py",
   "mimetype": "text/x-python",
   "name": "python",
   "nbconvert_exporter": "python",
   "pygments_lexer": "ipython3",
   "version": "3.7.1"
  }
 },
 "nbformat": 4,
 "nbformat_minor": 2
}
