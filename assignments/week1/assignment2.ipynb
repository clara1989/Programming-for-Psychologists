{
 "cells": [
  {
   "cell_type": "markdown",
   "metadata": {},
   "source": [
    "## ASSIGNMENT 2\n",
    "\n",
    "In this assignment we will focus on decision structures (if .... then .... else ....) and the use of external modules"
   ]
  },
  {
   "cell_type": "markdown",
   "metadata": {},
   "source": [
    "### Making decisions\n",
    "In Python (or any other programming language for that matter), you can use the if/else decision structure to decide what segments of code should be executed."
   ]
  },
  {
   "cell_type": "markdown",
   "metadata": {},
   "source": [
    "#### Question 1\n",
    "Imagine you are creating an experiment where targets and distractors need to be assigned different colors (i.e., red or green). To do this you create a variable target_color, which can contain the value 'red' or 'green'. Depending on its value, you'll want to give the distractor the opposite color. The cell below contains incomplete code that allows you to do this. Adust (fix) the code in the cell below such that the variable target_color is assigned the value 'green' and at the end of the cell color of the distractor is printed. "
   ]
  },
  {
   "cell_type": "code",
   "execution_count": null,
   "metadata": {},
   "outputs": [],
   "source": [
    "# answer question 1 and 2\n",
    "target_color = \n",
    "# set distractor_color based on target color\n",
    "if target_color :\n",
    "    distractor_color = \n",
    "elif target_color \n",
    "\n",
    "print(distractor_color)"
   ]
  },
  {
   "cell_type": "markdown",
   "metadata": {},
   "source": [
    "#### Question 2\n",
    "Change the value of targetColor to 'red' and rerun the segment of code you just wrote. Does 'green' get printed out?"
   ]
  },
  {
   "cell_type": "markdown",
   "metadata": {},
   "source": [
    "#### Question 3\n",
    "Change the value of targetColor to “yellow”. What happens now? How would you extend your decision structure so that a message 'invalid color specified' is printed whenever target_color is given a value that is not 'red' or 'green'?"
   ]
  },
  {
   "cell_type": "code",
   "execution_count": null,
   "metadata": {},
   "outputs": [],
   "source": [
    "# answer question 3"
   ]
  },
  {
   "cell_type": "markdown",
   "metadata": {},
   "source": [
    "#### Question 4\n",
    "Convert the cell code into a function. Name the function determineDistractorColor and make sure it can receive one argument, which is of course the target color. The function should return the correct distractor color, or print out 'invalid color specified' if an invalid target color is passed and then return False."
   ]
  },
  {
   "cell_type": "code",
   "execution_count": null,
   "metadata": {},
   "outputs": [],
   "source": [
    "# answer question 4"
   ]
  },
  {
   "cell_type": "markdown",
   "metadata": {},
   "source": [
    "### Nested control structures\n",
    "Decision statements can also be nested, meaning that one if/else statement can contain another. See Lecure 1 for an example of this. In the upcoming questions you are going to check if a vehicle has passed the legally allowed speed limit.\n"
   ]
  },
  {
   "cell_type": "markdown",
   "metadata": {},
   "source": [
    "#### Question 5\n",
    "On a certain road, there is a speed limit for cars of 100 kph and for mopeds of 45 kph. Create two variables, one called speed and one called vehicle_type. For now, assign speed a value of 50 and vehicle_type the value “car” (the other possible value is “moped”). Create two other variables to contain the speed limits. max_car_speed shoud contain the value of the speed limit for cars and max_moped_speed should contain the maximum allowed speed for mopeds."
   ]
  },
  {
   "cell_type": "code",
   "execution_count": null,
   "metadata": {},
   "outputs": [],
   "source": [
    "# answer question 5"
   ]
  },
  {
   "cell_type": "markdown",
   "metadata": {},
   "source": [
    "#### Question 6\n",
    "Create an if/else statement that prints '<*speed value*> kph exceeds speed limit' if the vehicle indicated by vehicle_type exceeds its speedlimit as stated in the variable max_car_speed or max_moped_speed. If it doesn’t, print '<*speed value*> kph is within limits'. To do this, you first have to check what the value is of vehicle_type and then check the value of speed against the maximum allowed speed of that vehicle_type. <br/><br/>If a vehicle_type is specified that does not exit, or the specified speed is below 0, a message should be printed saying that an invalid argument is given."
   ]
  },
  {
   "cell_type": "code",
   "execution_count": null,
   "metadata": {},
   "outputs": [],
   "source": [
    "# answer question 6"
   ]
  },
  {
   "cell_type": "markdown",
   "metadata": {},
   "source": [
    "#### Question 7\n",
    "Rewrite your answer to question 6 into a function called checkSpeedAgainstLimit. The function should have vehicle_type and speed as (obligatory) arguments. Additionally, make sure that you specify the variables containing the maximum speeds for both vehicle types inside the function! What is the output of this function for the following arguments?\n",
    "\n",
    "What is the output of this function for the following arguments?\n",
    "```python\n",
    "checkSpeedAgainstLimit('car',75) \n",
    "checkSpeedAgainstLimit('moped',75) \n",
    "checkSpeedAgainstLimit('car',-10) \n",
    "checkSpeedAgainstLimit('bus',50)\n",
    "```"
   ]
  },
  {
   "cell_type": "code",
   "execution_count": null,
   "metadata": {},
   "outputs": [],
   "source": [
    "# answer question 7"
   ]
  },
  {
   "cell_type": "markdown",
   "metadata": {},
   "source": [
    "#### Question 8\n",
    "Add an optional third argument “speedunit” to the above function (copy your answer to question 7 in the cell below) with a default value of “kph”. If set to “mph”, speeds should first be converted to kph inside the function, before the rest of its code is executed. 1 mile converts to 1.6 kilometers. One way to do this would be, to changte the if-else structure using different numbers for mph. However, that would require lots of rewriting and nesting, and there is an easier option: simply convert the given speed value from mph to kph if required before checking it against the limits."
   ]
  },
  {
   "cell_type": "code",
   "execution_count": null,
   "metadata": {},
   "outputs": [],
   "source": [
    "#answer question 8"
   ]
  },
  {
   "cell_type": "markdown",
   "metadata": {},
   "source": [
    "#### Question 9\n",
    "Rewrite your function so that the if/else statements are no longer nested, but use boolean operators instead to combine propositions (see lecture slides). In other words, instead of writing: <br/>\n",
    "\n",
    "```python\n",
    "if <condition 1>:\n",
    "    if <condition 2>:\n",
    "        [code to execute]\n",
    "```\n",
    " <br/>you can also write: \n",
    "```python\n",
    "if <condition 1> and <condition 2>:\n",
    "    [code to execute]\n",
    "``` \n",
    "\n",
    "Make sure that the function still has the correct output after you’ve made your changes. You can copy paste your old function and make the changes in the new function. Make sure that the new function does not have the same name as the old one (i.e. call it checkSpeedAgainstLimit2 or something. Function names should always be unique!)."
   ]
  },
  {
   "cell_type": "code",
   "execution_count": null,
   "metadata": {},
   "outputs": [],
   "source": [
    "# answer question 9"
   ]
  },
  {
   "cell_type": "markdown",
   "metadata": {},
   "source": [
    "### External modules\n",
    "Python offers a wide range of readily available functions, which you can use inside your program. These functions are stored in so-called ‘modules’ and you will have to import these modules first using the import statement, before you can use its functions. In the upcoming questions you will use two modules: <br/><br/>\n",
    "\n",
    "1. math – a library of mathematical functions (sin, cos, pow, etc.) and variables (pi,e) <br/>\n",
    "2. random – functions for randomization (you will see much more of this one in the future)"
   ]
  },
  {
   "cell_type": "markdown",
   "metadata": {},
   "source": [
    "#### Question 10\n",
    "In the cell below import the math and random modules. Look [here](https://docs.python.org/3/) (or just google) what the name is of the function in the random module that generates a random integer and what the name is of the function in the math module that calculates the factorial (e.g. 9!) of a given number. In the cell below, generate a random number between 10 and 100, pass this to the factorial function and print its output. Run your program several times and watch the output. What do you notice?\n",
    "* Note it is common practice to put your import statements at the top of your python script\n"
   ]
  },
  {
   "cell_type": "code",
   "execution_count": null,
   "metadata": {},
   "outputs": [],
   "source": [
    "#answer question 10"
   ]
  },
  {
   "cell_type": "markdown",
   "metadata": {},
   "source": [
    "#### Question 11\n",
    "Find the functions in the math module that convert an angle in radians to degrees and vice versa. How many radians is 95 deg? And how many degrees is 5.78 radians?"
   ]
  },
  {
   "cell_type": "code",
   "execution_count": null,
   "metadata": {},
   "outputs": [],
   "source": [
    "#answer question 11   "
   ]
  },
  {
   "cell_type": "markdown",
   "metadata": {},
   "source": [
    "#### Question 12\n",
    "Use random’s randint function to create a small piece of code that emulates a ‘coin toss’. Use the values generated by random to print either “heads” or “tails”. The chance that either of these two occurs should be 50%. Repeatedly run your program to see if it works (and thus if ‘heads’ is printed one time and ‘tails’ the other)."
   ]
  },
  {
   "cell_type": "code",
   "execution_count": null,
   "metadata": {},
   "outputs": [],
   "source": [
    "#answer question 12"
   ]
  }
 ],
 "metadata": {
  "kernelspec": {
   "display_name": "Python 3",
   "language": "python",
   "name": "python3"
  },
  "language_info": {
   "codemirror_mode": {
    "name": "ipython",
    "version": 3
   },
   "file_extension": ".py",
   "mimetype": "text/x-python",
   "name": "python",
   "nbconvert_exporter": "python",
   "pygments_lexer": "ipython3",
   "version": "3.7.1"
  }
 },
 "nbformat": 4,
 "nbformat_minor": 2
}
