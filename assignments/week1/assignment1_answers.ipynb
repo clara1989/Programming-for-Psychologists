{
 "cells": [
  {
   "cell_type": "markdown",
   "metadata": {},
   "source": [
    "## ASSIGNMENT 1\n",
    "\n",
    "In this assignment you will practice the usage of variables and operators. You can store and manipulate data in many possible ways and we’re going to explore these possibilities a little."
   ]
  },
  {
   "cell_type": "markdown",
   "metadata": {},
   "source": [
    "### Variables and operators\n",
    "\n",
    "Practice the usage of Python as a calculator. In the questions that follow, you have to write simple math equations in Python and perform calculations with them **using variables**. \n",
    "\n",
    "For example, consider the following math equation:\n",
    "\n",
    "$y$ = $x^2$ + 5$x$ + 33 \n",
    "\n",
    "If you are asked to calculate the value of $y$ when $x$ is 20, the Python code should look as shown in the cell below "
   ]
  },
  {
   "cell_type": "code",
   "execution_count": 1,
   "metadata": {},
   "outputs": [
    {
     "name": "stdout",
     "output_type": "stream",
     "text": [
      "When x is 20, y becomes 533\n"
     ]
    }
   ],
   "source": [
    "# example of math equation\n",
    "x = 20  # assign a value to variable x\n",
    "y = x**2 + 5*x + 33 # write the formula using x as a variable\n",
    "print('When x is {}, y becomes {}'.format(x,y))"
   ]
  },
  {
   "cell_type": "markdown",
   "metadata": {},
   "source": [
    "#### Question 1\n",
    "\n",
    "In Europe we use degrees Celcius (C) as the unit for temperature, but in the USA they use degrees Fahrenheit (F). The formula with which you can convert C to F is as follows:\n",
    "\n",
    "$F$ = $9/5*C+32$    &nbsp;  (1)\n",
    "\n",
    "Likewise, you can convert values from Fahrenheit to Celcius with:\n",
    "\n",
    "$C$ = $5/9*(F-32)$  &nbsp;  (2)\n",
    "\n",
    "Use Equation 1 to calculate what a temperature of 28 C would be in Fahrenheit."
   ]
  },
  {
   "cell_type": "code",
   "execution_count": 2,
   "metadata": {},
   "outputs": [
    {
     "name": "stdout",
     "output_type": "stream",
     "text": [
      "When C is 28, F becomes 82.4\n"
     ]
    }
   ],
   "source": [
    "# answer question 1\n",
    "C = 28  #assign value of 28 degrees to C\n",
    "F = 9/5 * C + 32 # formula to convert Celcius to Fahrenheit\n",
    "print('When C is {}, F becomes {}'.format(C,F))"
   ]
  },
  {
   "cell_type": "markdown",
   "metadata": {},
   "source": [
    "#### Question 2\n",
    "\n",
    "How much is -20 C in F ? \n",
    "* **tip**: you can reuse the equation code of the previous question and just change the value of the variable C"
   ]
  },
  {
   "cell_type": "code",
   "execution_count": 4,
   "metadata": {},
   "outputs": [
    {
     "name": "stdout",
     "output_type": "stream",
     "text": [
      "When C is -20, F becomes -4.0\n"
     ]
    }
   ],
   "source": [
    "# answer question 2\n",
    "C = -20  #assign value of -20 degrees to C\n",
    "F = 9/5 * C + 32 # formula to convert Celcius to Fahrenheit\n",
    "print('When C is {}, F becomes {}'.format(C,F))"
   ]
  },
  {
   "cell_type": "markdown",
   "metadata": {},
   "source": [
    "#### Question 3\n",
    "\n",
    "Use Equation 2 to calculate what the temperature of 72 degrees F would be in Celcius"
   ]
  },
  {
   "cell_type": "code",
   "execution_count": 5,
   "metadata": {},
   "outputs": [
    {
     "name": "stdout",
     "output_type": "stream",
     "text": [
      "When F is 72, C becomes 22.22222222222222\n"
     ]
    }
   ],
   "source": [
    "# answer question 3\n",
    "F = 72  #assign value of 72 degrees to F\n",
    "C = 5/9 * (F - 32) # formula to convert Fahrenheit to Celsius\n",
    "print('When F is {}, C becomes {}'.format(F,C))"
   ]
  },
  {
   "cell_type": "markdown",
   "metadata": {},
   "source": [
    "#### Question 4\n",
    "\n",
    "The volume V of a sphere with radius r is calculated with\n",
    "\n",
    "$V = 4/3\\pi r^3$ &nbsp; (3)\n",
    "\n",
    "What is the volume of a sphere with radius 5? Hint: 392.7 is wrong!\n",
    "* Get the value of $\\pi$ by putting **from math import pi** at the top of your program\n",
    "* Now $\\pi$ is stored in the variable pi"
   ]
  },
  {
   "cell_type": "code",
   "execution_count": 7,
   "metadata": {},
   "outputs": [
    {
     "name": "stdout",
     "output_type": "stream",
     "text": [
      "The volume of a sphere with radius 5 is 523.5987755982989\n"
     ]
    }
   ],
   "source": [
    "# answer question 4\n",
    "from math import pi\n",
    "r = 5  #assign value to r\n",
    "V = 4/3 * pi * r**3 # formula to convert Celcius to Fahrenheit\n",
    "print('The volume of a sphere with radius {} is {}'.format(r, V))"
   ]
  },
  {
   "cell_type": "markdown",
   "metadata": {},
   "source": [
    "#### To think about\n",
    "\n",
    "What is the benefit in general of using variables when performing calculations with equations, instead of writing down the numbers in the equations directly?"
   ]
  },
  {
   "cell_type": "markdown",
   "metadata": {},
   "source": [
    "### Functions and decision structures"
   ]
  },
  {
   "cell_type": "markdown",
   "metadata": {},
   "source": [
    "#### Question 5\n",
    "Take Equation 3 and make a function of it with the name calcSphereVolume. The function should only have r, the radius of the sphere as an input parameter and should return the calculated volume of the sphere. Print the outputs of\n",
    "```python\n",
    "calcSphereVolume(4) \n",
    "calcSphereVolume(33) \n",
    "calcSphereVolume(22.8)\n",
    "```"
   ]
  },
  {
   "cell_type": "code",
   "execution_count": 10,
   "metadata": {
    "scrolled": true
   },
   "outputs": [
    {
     "name": "stdout",
     "output_type": "stream",
     "text": [
      "The volume of a sphere with radius 4 is 268.082573106329\n",
      "The volume of a sphere with radius 33 is 150532.55358940852\n",
      "The volume of a sphere with radius 22.8 is 49647.01596128039\n"
     ]
    }
   ],
   "source": [
    "# answer question 5\n",
    "def calcSphereVolume(r):\n",
    "    '''\n",
    "    Function that calculates the function\n",
    "    of a spere based n a given radius r\n",
    "    '''\n",
    "    \n",
    "    V = 4/3 * pi * r**3\n",
    "    \n",
    "    print('The volume of a sphere with radius {} is {}'.format(r, V))\n",
    "\n",
    "calcSphereVolume(4)\n",
    "calcSphereVolume(33)\n",
    "calcSphereVolume(22.8)"
   ]
  },
  {
   "cell_type": "markdown",
   "metadata": {},
   "source": [
    "#### Question 6\n",
    "Write Equation 1 as a function named convertCtoF and Equation 2 as a function named convertFtoC. Both functions should have one parameter, namely the temperature value that needs to be coverted to the other unit. Print the outputs of: \n",
    "```python\n",
    "convertCtoF(30)\n",
    "convertCtoF(25)\n",
    "convertFtoC(70)\n",
    "convertFtoC(45)\n",
    "```"
   ]
  },
  {
   "cell_type": "code",
   "execution_count": 12,
   "metadata": {},
   "outputs": [
    {
     "name": "stdout",
     "output_type": "stream",
     "text": [
      "When C is 30, F becomes 86.0\n",
      "When C is 25, F becomes 77.0\n",
      "When F is 70, C becomes 21.11111111111111\n",
      "When F is 45, C becomes 7.222222222222222\n"
     ]
    }
   ],
   "source": [
    "# answer question 6\n",
    "def convertCtoF(C):\n",
    "    '''\n",
    "    Function that converts temperature \n",
    "    in Fahrenheit given an input in Celcius\n",
    "    '''\n",
    "    \n",
    "    F = 9/5 * C + 32 # formula to convert Celcius to Fahrenheit\n",
    "    \n",
    "    print('When C is {}, F becomes {}'.format(C,F))\n",
    "\n",
    "def convertFtoC(F):\n",
    "    '''\n",
    "    Function that converts temperature \n",
    "    in Celcius given an input in Fahrenheit\n",
    "    '''\n",
    "    \n",
    "    C = 5/9 * (F - 32) # formula to convert Fahrenheit to Celsius\n",
    "    \n",
    "    print('When F is {}, C becomes {}'.format(F,C))\n",
    "\n",
    "convertCtoF(30)\n",
    "convertCtoF(25)\n",
    "convertFtoC(70)\n",
    "convertFtoC(45)"
   ]
  },
  {
   "cell_type": "markdown",
   "metadata": {},
   "source": [
    "#### Question 7\n",
    "Write a function called convertTemp. It should take two parameters: the first is the value it needs to convert and the second is the unit to convert to. This can be a string with the values “C” or “F”. The function thus should look something like <br/><br/> def convertTemp(value, targetunit) <br/><br/> Use a decision structure (if …. Elif…. Else…..) in combination with the value of targetunit to determine what equation should be used to calculate the value that the function should return. Print the outputs of: \n",
    "```python\n",
    "convertTemp(26, \"F\") # Should be 78.8 \n",
    "convertTemp(53, \"C\") # Should be 11.67\n",
    "```"
   ]
  },
  {
   "cell_type": "code",
   "execution_count": 19,
   "metadata": {},
   "outputs": [
    {
     "name": "stdout",
     "output_type": "stream",
     "text": [
      "When C is 26, F becomes 78.80000000000001\n",
      "When F is 53, C becomes 11.666666666666668\n"
     ]
    }
   ],
   "source": [
    "# answer question 7\n",
    "def convertTemp(value, targetunit):\n",
    "    '''\n",
    "    Function that converts a given temperature either \n",
    "    to Fahrenheir or Celcius\n",
    "    '''\n",
    "        \n",
    "    if targetunit == 'F':\n",
    "        F = 9/5 * value + 32 # formula to convert Celcius to Fahrenheit \n",
    "        print('When C is {}, F becomes {}'.format(value,F))\n",
    "    elif targetunit == 'C':\n",
    "        C = 5/9 * (value - 32) # formula to convert Fahrenheit to Celsius\n",
    "        print('When F is {}, C becomes {}'.format(value,C))\n",
    "    else:\n",
    "        print('Please specify the to be converted unit as F or C')\n",
    "        \n",
    "convertTemp(26, \"F\")\n",
    "convertTemp(53, \"C\")"
   ]
  },
  {
   "cell_type": "markdown",
   "metadata": {},
   "source": [
    "#### Question 8\n",
    "\n",
    "In the cell below paste the function that you created to answer question 7. Change it in such a way, that the second parameter becomes optional (e.g. its value does not need to be specified) and defaults to “C”. In other words, if the function is only passed a number as a parameter, it should convert it to Celcius by default. Test this function by printing:\n",
    "```python\n",
    "convertTemp(21, \"F\") # Should be 69.8 (check if ‘F’ still works) \n",
    "convertTemp(80, \"C\") # Should be 26.67 (check if ‘C’ still works) \n",
    "convertTemp(80) # Should be 26.67 (check if only 1 param works)\n",
    "```"
   ]
  },
  {
   "cell_type": "code",
   "execution_count": 1,
   "metadata": {},
   "outputs": [
    {
     "name": "stdout",
     "output_type": "stream",
     "text": [
      "When C is 21, F becomes 69.80000000000001\n",
      "When F is 80, C becomes 26.666666666666668\n",
      "When F is 80, C becomes 26.666666666666668\n"
     ]
    }
   ],
   "source": [
    "# answer question 8\n",
    "def convertTemp(value, targetunit = 'C'):\n",
    "    '''\n",
    "    Function that converts a given temperature either \n",
    "    to Fahrenheir or Celcius\n",
    "    '''\n",
    "        \n",
    "    if targetunit == 'F':\n",
    "        F = 9/5 * value + 32 # formula to convert Celcius to Fahrenheit \n",
    "        print('When C is {}, F becomes {}'.format(value,F))\n",
    "    elif targetunit == 'C':\n",
    "        C = 5/9 * (value - 32) # formula to convert Fahrenheit to Celsius\n",
    "        print('When F is {}, C becomes {}'.format(value,C))\n",
    "    else:\n",
    "        print('Please specify the to be converted unit as F or C')\n",
    "        \n",
    "convertTemp(21, \"F\") # Should be 69.8 (check if ‘F’ still works) \n",
    "convertTemp(80, \"C\") # Should be 26.67 (check if ‘C’ still works) \n",
    "convertTemp(80) # Should be 26.67 (check if only 1 param works)"
   ]
  },
  {
   "cell_type": "markdown",
   "metadata": {},
   "source": [
    "#### Question 9\n",
    "\n",
    "In the cell below paste the function that you created to answer question 8. Change the function in such a way that it does not print the result, but rather returns it, so that you can store it in a variable. In other words, if you write \n",
    "```python\n",
    "calculatedTemp = convertTemp(28, \"F\") \n",
    "```\n",
    "calculatedTemp should contain the value that convertTemp calculated. You should afterwards be able to print this value with the command \n",
    "```python\n",
    "print(\"28 degrees celcius is \", calculatedTemp, \"Fahrenheit.\") \n",
    "```\n",
    "You could even skip the step of storing the result of convertTemp in a variable and print it directly, like this \n",
    "```python\n",
    "print(\"28 degrees celcius is \", convertTemp(28, \"F\"), \"Fahrenheit.\")\n",
    "```\n",
    "Try this out"
   ]
  },
  {
   "cell_type": "code",
   "execution_count": 2,
   "metadata": {},
   "outputs": [
    {
     "name": "stdout",
     "output_type": "stream",
     "text": [
      "28 degrees celcius is  82.4 Fahrenheit.\n",
      "28 degrees celcius is  82.4 Fahrenheit.\n"
     ]
    }
   ],
   "source": [
    "# answer question 9\n",
    "def convertTemp(value, targetunit = 'C'):\n",
    "    '''\n",
    "    Function that converts a given temperature either \n",
    "    to Fahrenheir or Celcius\n",
    "    '''\n",
    "        \n",
    "    if targetunit == 'F':\n",
    "        output = 9/5 * value + 32 # formula to convert Celcius to Fahrenheit \n",
    "    elif targetunit == 'C':\n",
    "        output = 5/9 * (value - 32) # formula to convert Fahrenheit to Celsius\n",
    "    else:\n",
    "        print('Please specify the to be converted unit as F or C')\n",
    "        \n",
    "    return output\n",
    "\n",
    "calculatedTemp = convertTemp(28, \"F\")\n",
    "print(\"28 degrees celcius is \", calculatedTemp, \"Fahrenheit.\") \n",
    "print(\"28 degrees celcius is \", convertTemp(28, \"F\"), \"Fahrenheit.\")"
   ]
  },
  {
   "cell_type": "markdown",
   "metadata": {},
   "source": [
    "#### To think about\n",
    "\n",
    "Now that you have played around with them for a bit, name some benefits of using functions compared to reusing segments of code by copy-pasting them."
   ]
  },
  {
   "cell_type": "markdown",
   "metadata": {},
   "source": [
    "### Truth in computer language"
   ]
  },
  {
   "cell_type": "code",
   "execution_count": 5,
   "metadata": {},
   "outputs": [],
   "source": [
    "def philosopher(test): \n",
    "    '''\n",
    "    function that evaluates whether the input test will be \n",
    "    assigned the value True or False\n",
    "    '''\n",
    "    if (test): \n",
    "        print('yes, there is (at least some) truth in this') \n",
    "    else: \n",
    "        print('no, that is a lie')"
   ]
  },
  {
   "cell_type": "markdown",
   "metadata": {},
   "source": [
    "The code in the cell above (run this cell now) is a function that you could use to check what is truth and what is not, according to Python. We can use this function to test simple statements as we have seen before, but you should know that python gives a truth value to practically everything. You can even test whether lists or strings are True!"
   ]
  },
  {
   "cell_type": "markdown",
   "metadata": {},
   "source": [
    "#### Question 10\n",
    "Use philosopher() to test the truth value of the following statements. Beforehand, try to evaluate them for yourself.<br/><br/> 1. 5 == 5 <br/>2. 5 == 4 <br/>3. not 5 == 4 <br/>4. True <br/>5. False <br/>6. 0 <br/>7. 1 <br/>8. ''"
   ]
  },
  {
   "cell_type": "code",
   "execution_count": 6,
   "metadata": {},
   "outputs": [
    {
     "name": "stdout",
     "output_type": "stream",
     "text": [
      "yes, there is (at least some) truth in this\n",
      "no, that is a lie\n",
      "yes, there is (at least some) truth in this\n",
      "yes, there is (at least some) truth in this\n",
      "no, that is a lie\n",
      "no, that is a lie\n",
      "yes, there is (at least some) truth in this\n",
      "no, that is a lie\n"
     ]
    }
   ],
   "source": [
    "# answer question 10\n",
    "philosopher(5 == 5)\n",
    "philosopher(5 == 4)\n",
    "philosopher(not 5 == 4)\n",
    "philosopher(True)\n",
    "philosopher(False)\n",
    "philosopher(0)\n",
    "philosopher(1)\n",
    "philosopher('')"
   ]
  },
  {
   "cell_type": "markdown",
   "metadata": {},
   "source": [
    "#### To think about \n",
    "\n",
    "The “language of computers” is 0's and 1's. Behind the scenes, True and False are numbers: a 0 for False, and 1 for True. Now that you know this, do you think you could explain your results for question 10? When does Python consider something as True, and when as False?"
   ]
  },
  {
   "cell_type": "markdown",
   "metadata": {},
   "source": [
    "#### Question 11\n",
    "Consider the followinf if-statement:\n",
    "```python\n",
    "testFruit = 'banana' \n",
    "if testFruit == 'apple' or 'orange' or 'pear': \n",
    "    print('This fruit is round')\n",
    "```\n",
    "Do you think the print statement will be executed? Why do you think this conditional statement does not behave like you would expect and always evaluates to True? How should you change the condition so that it is correctly checked if testFruit either has the value apple, pear or orange?"
   ]
  },
  {
   "cell_type": "code",
   "execution_count": 2,
   "metadata": {},
   "outputs": [],
   "source": [
    "# answer question 11\n",
    "testFruit = 'banana' \n",
    "if testFruit == 'apple' or testFruit == 'orange' or testFruit =='pear': \n",
    "     print('This fruit is round') "
   ]
  },
  {
   "cell_type": "markdown",
   "metadata": {},
   "source": [
    "### Swapping variables\n",
    "You have 2 variables a and b: Both variables have been assigned a value, for instance:<br/>a = 22 <br/>b = 55<br/>You would like to swap the values of a and b, such that a will be 55 and b will be 22.\n",
    "The cell below contains a potential solution to this problem. Do you think this will work? Run the cell to find out."
   ]
  },
  {
   "cell_type": "code",
   "execution_count": 5,
   "metadata": {},
   "outputs": [
    {
     "name": "stdout",
     "output_type": "stream",
     "text": [
      "a is 55\n",
      "b is 55\n"
     ]
    }
   ],
   "source": [
    "a, b = 22, 55\n",
    "a = b\n",
    "b = a\n",
    "print('a is {}'.format(a))\n",
    "print('b is {}'.format(b))"
   ]
  },
  {
   "cell_type": "markdown",
   "metadata": {},
   "source": [
    "#### To think about\n",
    "As you can see, that didn’t work. Try to explain why."
   ]
  },
  {
   "cell_type": "markdown",
   "metadata": {},
   "source": [
    "#### Question 12\n",
    "How would you solve this problem and successfully swap these variables? \n",
    "* **hint**: you are allowed to use other variables"
   ]
  },
  {
   "cell_type": "code",
   "execution_count": 7,
   "metadata": {},
   "outputs": [
    {
     "name": "stdout",
     "output_type": "stream",
     "text": [
      "a is 55\n",
      "b is 22\n"
     ]
    }
   ],
   "source": [
    "# answer question 12\n",
    "a, b = 22, 55\n",
    "c=a\n",
    "a=b\n",
    "b=c\n",
    "print('a is {}'.format(a))\n",
    "print('b is {}'.format(b))"
   ]
  }
 ],
 "metadata": {
  "kernelspec": {
   "display_name": "Python 3",
   "language": "python",
   "name": "python3"
  },
  "language_info": {
   "codemirror_mode": {
    "name": "ipython",
    "version": 3
   },
   "file_extension": ".py",
   "mimetype": "text/x-python",
   "name": "python",
   "nbconvert_exporter": "python",
   "pygments_lexer": "ipython3",
   "version": "3.7.1"
  }
 },
 "nbformat": 4,
 "nbformat_minor": 2
}
